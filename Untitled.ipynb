{
 "cells": [
  {
   "cell_type": "code",
   "execution_count": null,
   "id": "3b117b6e-7161-4806-8d3e-5faf9b30f28b",
   "metadata": {},
   "outputs": [],
   "source": [
    "# TESTING VISUAL 1\n",
    "mes_en_curso_real5[mes_en_curso_real5[\"CODIGO_PROYECTO\"]==\"P-1716\"]"
   ]
  },
  {
   "cell_type": "code",
   "execution_count": null,
   "id": "bb591637-65b9-4d9b-8e5f-a80649e1409b",
   "metadata": {},
   "outputs": [],
   "source": [
    "# TESTING VISUAL 2\n",
    "mes_en_curso_real5[mes_en_curso_real5[\"CODIGO_PROYECTO\"]==\"P-1704\"]"
   ]
  },
  {
   "cell_type": "code",
   "execution_count": null,
   "id": "f64ca987-1f1b-4547-8d0b-243124d02104",
   "metadata": {},
   "outputs": [],
   "source": [
    "# Respaldo de Dataframe mes en curso real\n",
    "mes_en_curso_real5.to_csv('archivos_respaldo/mes_en_curso_real5.csv', mode='a')"
   ]
  },
  {
   "cell_type": "code",
   "execution_count": null,
   "id": "de7ec7c8-3eee-4374-901d-d579c9212625",
   "metadata": {},
   "outputs": [],
   "source": []
  },
  {
   "cell_type": "code",
   "execution_count": null,
   "id": "940119c9-7820-470b-b96e-88b0e4b6712b",
   "metadata": {},
   "outputs": [],
   "source": []
  },
  {
   "cell_type": "code",
   "execution_count": null,
   "id": "b75901dc-038b-46a0-baf1-7a3b1e6fc32e",
   "metadata": {},
   "outputs": [],
   "source": []
  },
  {
   "cell_type": "code",
   "execution_count": null,
   "id": "dfcdc755-5691-460f-bd87-0db9dab3915a",
   "metadata": {},
   "outputs": [],
   "source": []
  },
  {
   "cell_type": "code",
   "execution_count": null,
   "id": "21e869b1-8e51-43cf-b905-5092905d9c2d",
   "metadata": {},
   "outputs": [],
   "source": []
  }
 ],
 "metadata": {
  "kernelspec": {
   "display_name": "Python 3 (ipykernel)",
   "language": "python",
   "name": "python3"
  },
  "language_info": {
   "codemirror_mode": {
    "name": "ipython",
    "version": 3
   },
   "file_extension": ".py",
   "mimetype": "text/x-python",
   "name": "python",
   "nbconvert_exporter": "python",
   "pygments_lexer": "ipython3",
   "version": "3.8.5"
  }
 },
 "nbformat": 4,
 "nbformat_minor": 5
}
